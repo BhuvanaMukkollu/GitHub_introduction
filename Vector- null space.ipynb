{
 "cells": [
  {
   "cell_type": "code",
   "execution_count": 5,
   "id": "8032391f",
   "metadata": {},
   "outputs": [],
   "source": [
    "import sympy as sp\n",
    "import numpy as np"
   ]
  },
  {
   "cell_type": "raw",
   "id": "5289adc5",
   "metadata": {},
   "source": [
    "There are four subspaces commonly used. A subspace is a set of vectors that satisfy specific conditions. These subspaces are useful to solve problems."
   ]
  },
  {
   "cell_type": "markdown",
   "id": "2d498d9f",
   "metadata": {},
   "source": [
    "### Null Space\n",
    "\n",
    "##### nullspace is the set of vectors v for which A.v = 0 or null vector\n",
    "\n",
    "Usage: to solve systems of linear equations"
   ]
  },
  {
   "cell_type": "code",
   "execution_count": 9,
   "id": "add7cb80",
   "metadata": {},
   "outputs": [
    {
     "name": "stdout",
     "output_type": "stream",
     "text": [
      "A: [[ 1 -3 -2]\n",
      " [-5  9  1]]\n",
      "Matrix([[-5/2], [-3/2], [1]])\n"
     ]
    },
    {
     "data": {
      "text/plain": [
       "array([[[0]],\n",
       "\n",
       "       [[0]]], dtype=object)"
      ]
     },
     "execution_count": 9,
     "metadata": {},
     "output_type": "execute_result"
    }
   ],
   "source": [
    "# find the nullspace of A\n",
    "A = np.mat([[1,-3,-2],[-5,9,1]])\n",
    "print(\"A:\", A)\n",
    "\n",
    "M = sp.Matrix(A)\n",
    "null_space_A = M.nullspace()\n",
    "\n",
    "# Print each vector in the null space basis\n",
    "for vector in null_space_A:\n",
    "    print(vector)\n",
    "    \n",
    "# verify\n",
    "np.dot(M,M.nullspace())"
   ]
  },
  {
   "cell_type": "code",
   "execution_count": 16,
   "id": "4db09b04",
   "metadata": {},
   "outputs": [
    {
     "data": {
      "text/plain": [
       "(1, 3)"
      ]
     },
     "execution_count": 16,
     "metadata": {},
     "output_type": "execute_result"
    }
   ],
   "source": [
    "# shape of the null space\n",
    "len(null_space_A), null_space_A[0].shape[0]"
   ]
  },
  {
   "cell_type": "code",
   "execution_count": 25,
   "id": "00337f5d",
   "metadata": {},
   "outputs": [],
   "source": [
    "A = sp.Matrix([[1, 2, 3],\n",
    "            [2, 4, 6]])"
   ]
  },
  {
   "cell_type": "code",
   "execution_count": 26,
   "id": "cc01d03d",
   "metadata": {},
   "outputs": [],
   "source": [
    "null_space_A = A.nullspace()"
   ]
  },
  {
   "cell_type": "code",
   "execution_count": 27,
   "id": "edfbf575",
   "metadata": {},
   "outputs": [
    {
     "data": {
      "text/plain": [
       "(2, 3)"
      ]
     },
     "execution_count": 27,
     "metadata": {},
     "output_type": "execute_result"
    }
   ],
   "source": [
    "# shape of the null space\n",
    "len(null_space_A), null_space_A[0].shape[0]"
   ]
  },
  {
   "cell_type": "code",
   "execution_count": 31,
   "id": "78c656db",
   "metadata": {},
   "outputs": [
    {
     "name": "stdout",
     "output_type": "stream",
     "text": [
      "Matrix([[-2], [1], [0]])\n",
      "Matrix([[-3], [0], [1]])\n"
     ]
    }
   ],
   "source": [
    "# Print each vector in the null space basis\n",
    "for vector in null_space_A:\n",
    "    print(vector)"
   ]
  },
  {
   "cell_type": "code",
   "execution_count": 32,
   "id": "5295e8cf",
   "metadata": {},
   "outputs": [
    {
     "data": {
      "text/plain": [
       "array([[[0],\n",
       "        [0]],\n",
       "\n",
       "       [[0],\n",
       "        [0]]], dtype=object)"
      ]
     },
     "execution_count": 32,
     "metadata": {},
     "output_type": "execute_result"
    }
   ],
   "source": [
    "# verify\n",
    "np.dot(A,A.nullspace())"
   ]
  },
  {
   "cell_type": "code",
   "execution_count": null,
   "id": "0556defc",
   "metadata": {},
   "outputs": [],
   "source": []
  }
 ],
 "metadata": {
  "kernelspec": {
   "display_name": "Python 3 (ipykernel)",
   "language": "python",
   "name": "python3"
  },
  "language_info": {
   "codemirror_mode": {
    "name": "ipython",
    "version": 3
   },
   "file_extension": ".py",
   "mimetype": "text/x-python",
   "name": "python",
   "nbconvert_exporter": "python",
   "pygments_lexer": "ipython3",
   "version": "3.9.7"
  }
 },
 "nbformat": 4,
 "nbformat_minor": 5
}
